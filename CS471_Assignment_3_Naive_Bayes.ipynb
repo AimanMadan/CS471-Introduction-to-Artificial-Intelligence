{
  "nbformat": 4,
  "nbformat_minor": 0,
  "metadata": {
    "colab": {
      "provenance": [],
      "collapsed_sections": [
        "S053QeVp396e",
        "Ptg3mZUfD0uP"
      ]
    },
    "kernelspec": {
      "name": "python3",
      "display_name": "Python 3"
    },
    "language_info": {
      "name": "python"
    }
  },
  "cells": [
    {
      "cell_type": "markdown",
      "source": [
        "# CS471 Assignment 3: Naive Bayes\n",
        "\n",
        "1.   Aiman Madan\n",
        "https://colab.research.google.com/drive/1Z-iHvDKqA-_fjymZIo2adV4QsHq0egF1?usp=sharing"
      ],
      "metadata": {
        "id": "MNjMJ8TdYN-i"
      }
    },
    {
      "cell_type": "markdown",
      "source": [
        "# Load the dataset and split into training and testing sets (first 20 into training and the rest into testing)"
      ],
      "metadata": {
        "id": "dD6-5rL43oRY"
      }
    },
    {
      "cell_type": "code",
      "execution_count": null,
      "metadata": {
        "colab": {
          "base_uri": "https://localhost:8080/"
        },
        "id": "U_nhLB9EQT73",
        "outputId": "b3e0f5d8-7689-45fb-ff18-fc32da7c871d"
      },
      "outputs": [
        {
          "output_type": "stream",
          "name": "stdout",
          "text": [
            "--2024-10-04 03:48:58--  https://drive.google.com/uc?export=download&id=1MJzF39zlYnTkH4SfvW0TcTVXTrTAeDP-\n",
            "Resolving drive.google.com (drive.google.com)... 142.251.8.139, 142.251.8.101, 142.251.8.102, ...\n",
            "Connecting to drive.google.com (drive.google.com)|142.251.8.139|:443... connected.\n",
            "HTTP request sent, awaiting response... 303 See Other\n",
            "Location: https://drive.usercontent.google.com/download?id=1MJzF39zlYnTkH4SfvW0TcTVXTrTAeDP-&export=download [following]\n",
            "--2024-10-04 03:48:58--  https://drive.usercontent.google.com/download?id=1MJzF39zlYnTkH4SfvW0TcTVXTrTAeDP-&export=download\n",
            "Resolving drive.usercontent.google.com (drive.usercontent.google.com)... 108.177.97.132, 2404:6800:4008:c00::84\n",
            "Connecting to drive.usercontent.google.com (drive.usercontent.google.com)|108.177.97.132|:443... connected.\n",
            "HTTP request sent, awaiting response... 200 OK\n",
            "Length: 2008 (2.0K) [application/octet-stream]\n",
            "Saving to: ‘dataset.csv’\n",
            "\n",
            "dataset.csv         100%[===================>]   1.96K  --.-KB/s    in 0s      \n",
            "\n",
            "2024-10-04 03:49:00 (22.7 MB/s) - ‘dataset.csv’ saved [2008/2008]\n",
            "\n",
            "Training set:\n",
            "   Target                                               data\n",
            "0    spam  WINNER As a valued network customer you have b...\n",
            "1    spam  If you had your mobile for more than an year y...\n",
            "2     ham                           I am gonna be home soon \n",
            "3    spam  SIX chances to win CASH From 100 to 20000 doll...\n",
            "4    spam  URGENT You have won a 1 week FREE membership i...\n",
            "5     ham  You have been wonderful and a blessing at all ...\n",
            "6    spam  XXXMobileMovieClub To use your credit click th...\n",
            "7     ham                            okay I am watching here\n",
            "8    spam  England vs Macedonia dont miss the team news T...\n",
            "9     ham          Is that seriously how you spell his name \n",
            "10    ham                  did you finish your lunch already\n",
            "11    ham       Alright no way I can meet up with you sooner\n",
            "12    ham  Just forced myself to eat a slice I am really ...\n",
            "13    ham                            Did you catch the train\n",
            "14    ham                        tell me anything about you.\n",
            "15   spam  Thanks for your subscription to Ringtone UK yo...\n",
            "16    ham          Hello How are you and how did saturday go\n",
            "17   spam  Rodger Burns MSG We tried to call you reply to...\n",
            "18   spam  Congrats one year special cinema pass for two ...\n",
            "19    ham                 Sorry I will call later in meeting\n",
            "\n",
            "Testing set:\n",
            "   Target                                               data\n",
            "20    ham                             Tell where you reached\n",
            "21    ham  Your gonna have to pick up a burger for yourse...\n",
            "22   spam  As a valued customer I am pleased to advise yo...\n",
            "23   spam  Urgent you are awarded a complimentary trip to...\n",
            "24    ham                       Finished class where are you\n",
            "25    ham                 where are you how did you perform \n",
            "26    ham                                you can call me now\n",
            "27    ham             I am waiting Call me once you are free\n",
            "28    ham                           I am on the way to homei\n",
            "29   spam  Please call our customer service representativ...\n"
          ]
        }
      ],
      "source": [
        "# Load necessary libraries\n",
        "import pandas as pd\n",
        "from collections import defaultdict\n",
        "\n",
        "\n",
        "!wget 'https://drive.google.com/uc?export=download&id=1MJzF39zlYnTkH4SfvW0TcTVXTrTAeDP-' -O dataset.csv\n",
        "\n",
        "\n",
        "# Load the dataset, skip the header row\n",
        "df = pd.read_csv('dataset.csv', header=None, skiprows=1, names=[\"Target\", \"data\"])\n",
        "\n",
        "# Training\n",
        "print(\"Training set:\")\n",
        "train_df = df[:20]\n",
        "print(train_df)\n",
        "# Testing\n",
        "print(\"\\nTesting set:\")\n",
        "test_df = df[20:]\n",
        "print(test_df)\n"
      ]
    },
    {
      "cell_type": "markdown",
      "source": [
        "# Compute the prior probabilities: P(spam) and P(ham)"
      ],
      "metadata": {
        "id": "S053QeVp396e"
      }
    },
    {
      "cell_type": "code",
      "source": [
        "# Calculate the number of spam and ham emails in the training set\n",
        "spam_messages = len(train_df[train_df['Target'] == 'spam'])\n",
        "print(\"Number of spam messages:\", spam_messages)\n",
        "ham_messages = len(train_df[train_df['Target'] == 'ham'])\n",
        "print(\"Number of ham messages:\", ham_messages)\n",
        "\n",
        "# Calculate the prior probabilities\n",
        "p_spam = spam_messages / len(train_df)\n",
        "print(\"P(spam):\", p_spam)\n",
        "p_ham = ham_messages / len(train_df)\n",
        "print(\"P(ham):\", p_ham)\n"
      ],
      "metadata": {
        "colab": {
          "base_uri": "https://localhost:8080/"
        },
        "id": "4OhVI6hPUmGZ",
        "outputId": "865b06a6-25d3-4ebd-f57e-8d724fda09da"
      },
      "execution_count": null,
      "outputs": [
        {
          "output_type": "stream",
          "name": "stdout",
          "text": [
            "Number of spam messages: 9\n",
            "Number of ham messages: 11\n",
            "P(spam): 0.45\n",
            "P(ham): 0.55\n"
          ]
        }
      ]
    },
    {
      "cell_type": "markdown",
      "source": [
        "# Compute the conditional probabilities P(sentence/spam)"
      ],
      "metadata": {
        "id": "z0zhhHjD4MPz"
      }
    },
    {
      "cell_type": "code",
      "source": [
        "\n",
        "# Initialize word dictionary with counts for spam and ham\n",
        "word_dict = defaultdict(lambda: {'spam': 0, 'ham': 0})\n",
        "\n",
        "# Tokenize and count words in spam and ham messages\n",
        "for _, row in train_df.iterrows():\n",
        "    words = row['data'].split()\n",
        "    label = row['Target']\n",
        "    for word in words:\n",
        "        word_dict[word][label] += 1\n",
        "\n",
        "# Apply Laplace smoothing and calculate total words for spam and ham\n",
        "unique_words = len(word_dict)\n",
        "total_spam_words = sum(word_dict[word]['spam'] for word in word_dict) + unique_words  # Laplace smoothing\n",
        "total_ham_words = sum(word_dict[word]['ham'] for word in word_dict) + unique_words    # Laplace smoothing\n",
        "\n",
        "\n",
        "\n",
        "# Calculate conditional probabilities with Laplace smoothing\n",
        "for word in word_dict:\n",
        "    word_dict[word]['spam'] = (word_dict[word]['spam'] + 1) / total_spam_words\n",
        "    word_dict[word]['ham'] = (word_dict[word]['ham'] + 1) / total_ham_words\n",
        "\n",
        "    print(f\"P({word}|spam): {word_dict[word]['spam']:.6f}, P({word}|ham): {word_dict[word]['ham']:.6f}\")\n",
        "\n",
        "\n"
      ],
      "metadata": {
        "colab": {
          "base_uri": "https://localhost:8080/"
        },
        "id": "Mytb_ZnEU3Cl",
        "outputId": "0d451511-af1a-4c68-b3d9-43b5336fc769"
      },
      "execution_count": null,
      "outputs": [
        {
          "output_type": "stream",
          "name": "stdout",
          "text": [
            "P(WINNER|spam): 0.005882, P(WINNER|ham): 0.003891\n",
            "P(As|spam): 0.005882, P(As|ham): 0.003891\n",
            "P(a|spam): 0.014706, P(a|ham): 0.011673\n",
            "P(valued|spam): 0.005882, P(valued|ham): 0.003891\n",
            "P(network|spam): 0.005882, P(network|ham): 0.003891\n",
            "P(customer|spam): 0.005882, P(customer|ham): 0.003891\n",
            "P(you|spam): 0.014706, P(you|ham): 0.023346\n",
            "P(have|spam): 0.008824, P(have|ham): 0.007782\n",
            "P(been|spam): 0.005882, P(been|ham): 0.007782\n",
            "P(selected|spam): 0.005882, P(selected|ham): 0.003891\n",
            "P(to|spam): 0.026471, P(to|ham): 0.007782\n",
            "P(receive|spam): 0.005882, P(receive|ham): 0.003891\n",
            "P(prize|spam): 0.005882, P(prize|ham): 0.003891\n",
            "P(reward|spam): 0.005882, P(reward|ham): 0.003891\n",
            "P(To|spam): 0.008824, P(To|ham): 0.003891\n",
            "P(claim|spam): 0.005882, P(claim|ham): 0.003891\n",
            "P(call|spam): 0.017647, P(call|ham): 0.007782\n",
            "P(If|spam): 0.005882, P(If|ham): 0.003891\n",
            "P(had|spam): 0.005882, P(had|ham): 0.003891\n",
            "P(your|spam): 0.014706, P(your|ham): 0.007782\n",
            "P(mobile|spam): 0.011765, P(mobile|ham): 0.003891\n",
            "P(for|spam): 0.020588, P(for|ham): 0.003891\n",
            "P(more|spam): 0.005882, P(more|ham): 0.003891\n",
            "P(than|spam): 0.005882, P(than|ham): 0.003891\n",
            "P(an|spam): 0.005882, P(an|ham): 0.003891\n",
            "P(year|spam): 0.008824, P(year|ham): 0.003891\n",
            "P(are|spam): 0.005882, P(are|ham): 0.007782\n",
            "P(entitled|spam): 0.005882, P(entitled|ham): 0.003891\n",
            "P(Update|spam): 0.005882, P(Update|ham): 0.003891\n",
            "P(the|spam): 0.017647, P(the|ham): 0.007782\n",
            "P(latest|spam): 0.005882, P(latest|ham): 0.003891\n",
            "P(colour|spam): 0.005882, P(colour|ham): 0.003891\n",
            "P(mobiles|spam): 0.005882, P(mobiles|ham): 0.003891\n",
            "P(with|spam): 0.005882, P(with|ham): 0.007782\n",
            "P(camera|spam): 0.005882, P(camera|ham): 0.003891\n",
            "P(Free|spam): 0.005882, P(Free|ham): 0.003891\n",
            "P(Call|spam): 0.005882, P(Call|ham): 0.003891\n",
            "P(The|spam): 0.005882, P(The|ham): 0.003891\n",
            "P(Mobile|spam): 0.005882, P(Mobile|ham): 0.003891\n",
            "P(I|spam): 0.002941, P(I|ham): 0.023346\n",
            "P(am|spam): 0.002941, P(am|ham): 0.015564\n",
            "P(gonna|spam): 0.002941, P(gonna|ham): 0.007782\n",
            "P(be|spam): 0.005882, P(be|ham): 0.007782\n",
            "P(home|spam): 0.002941, P(home|ham): 0.007782\n",
            "P(soon|spam): 0.002941, P(soon|ham): 0.007782\n",
            "P(SIX|spam): 0.005882, P(SIX|ham): 0.003891\n",
            "P(chances|spam): 0.005882, P(chances|ham): 0.003891\n",
            "P(win|spam): 0.005882, P(win|ham): 0.003891\n",
            "P(CASH|spam): 0.005882, P(CASH|ham): 0.003891\n",
            "P(From|spam): 0.005882, P(From|ham): 0.003891\n",
            "P(100|spam): 0.005882, P(100|ham): 0.003891\n",
            "P(20000|spam): 0.005882, P(20000|ham): 0.003891\n",
            "P(dollars|spam): 0.005882, P(dollars|ham): 0.003891\n",
            "P(text|spam): 0.005882, P(text|ham): 0.003891\n",
            "P(or|spam): 0.011765, P(or|ham): 0.003891\n",
            "P(URGENT|spam): 0.005882, P(URGENT|ham): 0.003891\n",
            "P(You|spam): 0.005882, P(You|ham): 0.007782\n",
            "P(won|spam): 0.005882, P(won|ham): 0.003891\n",
            "P(1|spam): 0.005882, P(1|ham): 0.003891\n",
            "P(week|spam): 0.005882, P(week|ham): 0.003891\n",
            "P(FREE|spam): 0.005882, P(FREE|ham): 0.003891\n",
            "P(membership|spam): 0.005882, P(membership|ham): 0.003891\n",
            "P(in|spam): 0.008824, P(in|ham): 0.007782\n",
            "P(our|spam): 0.008824, P(our|ham): 0.003891\n",
            "P(million|spam): 0.005882, P(million|ham): 0.003891\n",
            "P(dollar|spam): 0.005882, P(dollar|ham): 0.003891\n",
            "P(Prize|spam): 0.005882, P(Prize|ham): 0.003891\n",
            "P(Jackpot|spam): 0.005882, P(Jackpot|ham): 0.003891\n",
            "P(Text|spam): 0.008824, P(Text|ham): 0.003891\n",
            "P(word|spam): 0.005882, P(word|ham): 0.003891\n",
            "P(CLAIM|spam): 0.005882, P(CLAIM|ham): 0.003891\n",
            "P(wonderful|spam): 0.002941, P(wonderful|ham): 0.007782\n",
            "P(and|spam): 0.005882, P(and|ham): 0.011673\n",
            "P(blessing|spam): 0.002941, P(blessing|ham): 0.007782\n",
            "P(at|spam): 0.002941, P(at|ham): 0.007782\n",
            "P(all|spam): 0.002941, P(all|ham): 0.007782\n",
            "P(times|spam): 0.002941, P(times|ham): 0.007782\n",
            "P(XXXMobileMovieClub|spam): 0.005882, P(XXXMobileMovieClub|ham): 0.003891\n",
            "P(use|spam): 0.005882, P(use|ham): 0.003891\n",
            "P(credit|spam): 0.005882, P(credit|ham): 0.003891\n",
            "P(click|spam): 0.008824, P(click|ham): 0.003891\n",
            "P(WAP|spam): 0.005882, P(WAP|ham): 0.003891\n",
            "P(link|spam): 0.005882, P(link|ham): 0.003891\n",
            "P(next|spam): 0.005882, P(next|ham): 0.003891\n",
            "P(txt|spam): 0.005882, P(txt|ham): 0.003891\n",
            "P(message|spam): 0.005882, P(message|ham): 0.003891\n",
            "P(here|spam): 0.005882, P(here|ham): 0.007782\n",
            "P(okay|spam): 0.002941, P(okay|ham): 0.007782\n",
            "P(watching|spam): 0.002941, P(watching|ham): 0.007782\n",
            "P(England|spam): 0.005882, P(England|ham): 0.003891\n",
            "P(vs|spam): 0.005882, P(vs|ham): 0.003891\n",
            "P(Macedonia|spam): 0.005882, P(Macedonia|ham): 0.003891\n",
            "P(dont|spam): 0.005882, P(dont|ham): 0.003891\n",
            "P(miss|spam): 0.008824, P(miss|ham): 0.003891\n",
            "P(team|spam): 0.008824, P(team|ham): 0.003891\n",
            "P(news|spam): 0.005882, P(news|ham): 0.003891\n",
            "P(ur|spam): 0.005882, P(ur|ham): 0.003891\n",
            "P(national|spam): 0.005882, P(national|ham): 0.003891\n",
            "P(Is|spam): 0.002941, P(Is|ham): 0.007782\n",
            "P(that|spam): 0.002941, P(that|ham): 0.007782\n",
            "P(seriously|spam): 0.002941, P(seriously|ham): 0.007782\n",
            "P(how|spam): 0.002941, P(how|ham): 0.011673\n",
            "P(spell|spam): 0.002941, P(spell|ham): 0.007782\n",
            "P(his|spam): 0.002941, P(his|ham): 0.007782\n",
            "P(name|spam): 0.002941, P(name|ham): 0.007782\n",
            "P(did|spam): 0.002941, P(did|ham): 0.011673\n",
            "P(finish|spam): 0.002941, P(finish|ham): 0.007782\n",
            "P(lunch|spam): 0.002941, P(lunch|ham): 0.007782\n",
            "P(already|spam): 0.002941, P(already|ham): 0.007782\n",
            "P(Alright|spam): 0.002941, P(Alright|ham): 0.007782\n",
            "P(no|spam): 0.002941, P(no|ham): 0.007782\n",
            "P(way|spam): 0.002941, P(way|ham): 0.007782\n",
            "P(can|spam): 0.002941, P(can|ham): 0.007782\n",
            "P(meet|spam): 0.002941, P(meet|ham): 0.007782\n",
            "P(up|spam): 0.002941, P(up|ham): 0.007782\n",
            "P(sooner|spam): 0.002941, P(sooner|ham): 0.007782\n",
            "P(Just|spam): 0.002941, P(Just|ham): 0.007782\n",
            "P(forced|spam): 0.002941, P(forced|ham): 0.007782\n",
            "P(myself|spam): 0.002941, P(myself|ham): 0.007782\n",
            "P(eat|spam): 0.002941, P(eat|ham): 0.007782\n",
            "P(slice|spam): 0.002941, P(slice|ham): 0.007782\n",
            "P(really|spam): 0.002941, P(really|ham): 0.007782\n",
            "P(not|spam): 0.002941, P(not|ham): 0.007782\n",
            "P(hungry|spam): 0.002941, P(hungry|ham): 0.007782\n",
            "P(Did|spam): 0.002941, P(Did|ham): 0.007782\n",
            "P(catch|spam): 0.002941, P(catch|ham): 0.007782\n",
            "P(train|spam): 0.002941, P(train|ham): 0.007782\n",
            "P(tell|spam): 0.002941, P(tell|ham): 0.007782\n",
            "P(me|spam): 0.002941, P(me|ham): 0.007782\n",
            "P(anything|spam): 0.002941, P(anything|ham): 0.007782\n",
            "P(about|spam): 0.002941, P(about|ham): 0.007782\n",
            "P(you.|spam): 0.002941, P(you.|ham): 0.007782\n",
            "P(Thanks|spam): 0.005882, P(Thanks|ham): 0.003891\n",
            "P(subscription|spam): 0.005882, P(subscription|ham): 0.003891\n",
            "P(Ringtone|spam): 0.005882, P(Ringtone|ham): 0.003891\n",
            "P(UK|spam): 0.005882, P(UK|ham): 0.003891\n",
            "P(will|spam): 0.005882, P(will|ham): 0.007782\n",
            "P(charged|spam): 0.005882, P(charged|ham): 0.003891\n",
            "P(Please|spam): 0.008824, P(Please|ham): 0.003891\n",
            "P(confirm|spam): 0.005882, P(confirm|ham): 0.003891\n",
            "P(by|spam): 0.005882, P(by|ham): 0.003891\n",
            "P(replying|spam): 0.005882, P(replying|ham): 0.003891\n",
            "P(YES|spam): 0.005882, P(YES|ham): 0.003891\n",
            "P(NO|spam): 0.005882, P(NO|ham): 0.003891\n",
            "P(Hello|spam): 0.002941, P(Hello|ham): 0.007782\n",
            "P(How|spam): 0.002941, P(How|ham): 0.007782\n",
            "P(saturday|spam): 0.002941, P(saturday|ham): 0.007782\n",
            "P(go|spam): 0.002941, P(go|ham): 0.007782\n",
            "P(Rodger|spam): 0.005882, P(Rodger|ham): 0.003891\n",
            "P(Burns|spam): 0.005882, P(Burns|ham): 0.003891\n",
            "P(MSG|spam): 0.005882, P(MSG|ham): 0.003891\n",
            "P(We|spam): 0.005882, P(We|ham): 0.003891\n",
            "P(tried|spam): 0.005882, P(tried|ham): 0.003891\n",
            "P(reply|spam): 0.005882, P(reply|ham): 0.003891\n",
            "P(sms|spam): 0.005882, P(sms|ham): 0.003891\n",
            "P(free|spam): 0.008824, P(free|ham): 0.003891\n",
            "P(samsung|spam): 0.005882, P(samsung|ham): 0.003891\n",
            "P(camcorder|spam): 0.005882, P(camcorder|ham): 0.003891\n",
            "P(now|spam): 0.008824, P(now|ham): 0.003891\n",
            "P(delivery|spam): 0.005882, P(delivery|ham): 0.003891\n",
            "P(tomorrow|spam): 0.005882, P(tomorrow|ham): 0.003891\n",
            "P(Congrats|spam): 0.005882, P(Congrats|ham): 0.003891\n",
            "P(one|spam): 0.005882, P(one|ham): 0.003891\n",
            "P(special|spam): 0.005882, P(special|ham): 0.003891\n",
            "P(cinema|spam): 0.005882, P(cinema|ham): 0.003891\n",
            "P(pass|spam): 0.005882, P(pass|ham): 0.003891\n",
            "P(two|spam): 0.005882, P(two|ham): 0.003891\n",
            "P(is|spam): 0.005882, P(is|ham): 0.003891\n",
            "P(yours|spam): 0.005882, P(yours|ham): 0.003891\n",
            "P(Dont|spam): 0.005882, P(Dont|ham): 0.003891\n",
            "P(out|spam): 0.005882, P(out|ham): 0.003891\n",
            "P(Sorry|spam): 0.002941, P(Sorry|ham): 0.007782\n",
            "P(later|spam): 0.002941, P(later|ham): 0.007782\n",
            "P(meeting|spam): 0.002941, P(meeting|ham): 0.007782\n"
          ]
        }
      ]
    },
    {
      "cell_type": "markdown",
      "source": [
        "# Compute the posterior probabilities:\n",
        "\n",
        "(probability of a sentence belonging to a spam or ham)\n",
        "\n",
        "P(spam/sentence) ∝ P(spam) * P(sentence/spam)\n",
        "\n",
        "Posterior ∝ prior * conditional\n",
        "\n",
        "P(ham/sentence) ∝ P(ham) * P(sentence/ham)\n",
        "\n",
        "\n",
        "**Display the sentence**\n",
        "\n",
        "Print the posterior probability of a sentence belonging to spam or ham\n",
        "\n",
        "Display the class (spam or ham)"
      ],
      "metadata": {
        "id": "82WVXHZVCVZy"
      }
    },
    {
      "cell_type": "code",
      "source": [
        "# Classify each sentence in the test set and compute accuracy\n",
        "correct_predictions = 0\n",
        "for index, row in test_df.iterrows():\n",
        "    words = row['data'].split()\n",
        "\n",
        "    # Calculate posterior probabilities\n",
        "    spam_prob = p_spam\n",
        "    ham_prob = p_ham\n",
        "\n",
        "    for word in words:\n",
        "        spam_prob *= word_dict[word]['spam'] if word in word_dict else 1 / total_spam_words\n",
        "        ham_prob *= word_dict[word]['ham'] if word in word_dict else 1 / total_ham_words\n",
        "\n",
        "    # Predicted class\n",
        "    predicted_class = \"spam\" if spam_prob > ham_prob else \"ham\"\n",
        "\n",
        "    # Display sentence, probabilities, and predicted class\n",
        "    print(f\"Sentence: {row['data']}\")\n",
        "    print(f\"P(spam|sentence): {spam_prob:.6e}, P(ham|sentence): {ham_prob:.6e}\")\n",
        "    print(f\"Predicted Class: {predicted_class}\\n\")\n",
        "\n",
        "    # Track correct predictions for accuracy\n",
        "    if predicted_class == row[\"Target\"]:\n",
        "        correct_predictions += 1"
      ],
      "metadata": {
        "id": "cBStoXQhDOEy",
        "colab": {
          "base_uri": "https://localhost:8080/"
        },
        "outputId": "d463c24a-4690-4d4c-f246-3d2730cfdb05"
      },
      "execution_count": null,
      "outputs": [
        {
          "output_type": "stream",
          "name": "stdout",
          "text": [
            "Sentence: Tell where you reached\n",
            "P(spam|sentence): 1.683708e-10, P(ham|sentence): 7.564521e-10\n",
            "Predicted Class: ham\n",
            "\n",
            "Sentence: Your gonna have to pick up a burger for yourself on your way home\n",
            "P(spam|sentence): 7.707428e-33, P(ham|sentence): 3.851503e-32\n",
            "Predicted Class: ham\n",
            "\n",
            "Sentence: As a valued customer I am pleased to advise you that for your recent review you are awarded a Bonus Prize\n",
            "P(spam|sentence): 1.956572e-47, P(ham|sentence): 1.685169e-46\n",
            "Predicted Class: ham\n",
            "\n",
            "Sentence: Urgent you are awarded a complimentary trip to EuroDisinc To claim text immediately\n",
            "P(spam|sentence): 2.994886e-30, P(ham|sentence): 1.855943e-30\n",
            "Predicted Class: spam\n",
            "\n",
            "Sentence: Finished class where are you\n",
            "P(spam|sentence): 9.904166e-13, P(ham|sentence): 5.886787e-12\n",
            "Predicted Class: ham\n",
            "\n",
            "Sentence: where are you how did you perform \n",
            "P(spam|sentence): 4.283809e-17, P(ham|sentence): 4.812889e-15\n",
            "Predicted Class: ham\n",
            "\n",
            "Sentence: you can call me now\n",
            "P(spam|sentence): 8.913750e-12, P(ham|sentence): 2.354715e-11\n",
            "Predicted Class: ham\n",
            "\n",
            "Sentence: I am waiting Call me once you are free\n",
            "P(spam|sentence): 4.446861e-22, P(ham|sentence): 6.477196e-20\n",
            "Predicted Class: ham\n",
            "\n",
            "Sentence: I am on the way to homei\n",
            "P(spam|sentence): 4.626514e-17, P(ham|sentence): 1.426041e-15\n",
            "Predicted Class: ham\n",
            "\n",
            "Sentence: Please call our customer service representative between 10am-9pm as you have WON a guaranteed cash prize\n",
            "P(spam|sentence): 2.285940e-37, P(ham|sentence): 1.093365e-37\n",
            "Predicted Class: spam\n",
            "\n"
          ]
        }
      ]
    },
    {
      "cell_type": "markdown",
      "source": [
        "# Report the test set accuracy\n",
        "\n",
        "Accuracy = no. of sentences correctly predicted by model / total sentences"
      ],
      "metadata": {
        "id": "jkHlmZK8D6lP"
      }
    },
    {
      "cell_type": "code",
      "source": [
        "# Calculate and print accuracy\n",
        "accuracy = correct_predictions / len(test_df)\n",
        "print(f\"Accuracy: {accuracy * 100:.2f}%\")\n"
      ],
      "metadata": {
        "id": "3L9ecAvkZInC",
        "colab": {
          "base_uri": "https://localhost:8080/"
        },
        "outputId": "5d557c5d-d9c8-44e0-8556-a1b17cf16a83"
      },
      "execution_count": null,
      "outputs": [
        {
          "output_type": "stream",
          "name": "stdout",
          "text": [
            "Accuracy: 90.00%\n"
          ]
        }
      ]
    }
  ]
}