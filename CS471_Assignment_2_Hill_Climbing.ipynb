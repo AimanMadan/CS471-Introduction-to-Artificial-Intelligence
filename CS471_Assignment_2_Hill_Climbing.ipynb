{
  "nbformat": 4,
  "nbformat_minor": 0,
  "metadata": {
    "colab": {
      "provenance": []
    },
    "kernelspec": {
      "name": "python3",
      "display_name": "Python 3"
    },
    "language_info": {
      "name": "python"
    }
  },
  "cells": [
    {
      "cell_type": "markdown",
      "source": [
        "## CS471: Assignment 2: Hill Climbing\n",
        "\n",
        "Aiman Madan\n",
        "\n",
        "https://colab.research.google.com/drive/1gUP2ARrgRLOLJsqusc3JR2_w_rC5nBJL?usp=sharing\n"
      ],
      "metadata": {
        "id": "MfwnkLaUtt0C"
      }
    },
    {
      "cell_type": "markdown",
      "source": [
        "# Details\n",
        "Hill-climbing:\n",
        "\n",
        "Consider a function: **f(x) = 2 - (x^2)**\n",
        "in the following discrete state-space, where x  [-5, 5], step-size 0.5. Implement the hill-climbing algorithm in python to find the maximum value for the above function"
      ],
      "metadata": {
        "id": "8chZU4e6uOJK"
      }
    },
    {
      "cell_type": "code",
      "execution_count": null,
      "metadata": {
        "id": "FN7wKNtwtrPn"
      },
      "outputs": [],
      "source": [
        "import random"
      ]
    },
    {
      "cell_type": "markdown",
      "source": [
        "Defining f(X)"
      ],
      "metadata": {
        "id": "P_RN7q1Nhb2n"
      }
    },
    {
      "cell_type": "code",
      "source": [
        "def f(x):\n",
        "    return 2 - x**2"
      ],
      "metadata": {
        "id": "8yZ2Q7deDbDs"
      },
      "execution_count": null,
      "outputs": []
    },
    {
      "cell_type": "markdown",
      "source": [
        "Generate the list of possible x values"
      ],
      "metadata": {
        "id": "1dSXOrzth7pt"
      }
    },
    {
      "cell_type": "code",
      "source": [
        "x_values = [i * 0.5 for i in range(-10, 11)] #Step size in .5\n",
        "print(x_values)"
      ],
      "metadata": {
        "colab": {
          "base_uri": "https://localhost:8080/"
        },
        "id": "GFXs12DOhtwv",
        "outputId": "c27754aa-18d2-4aa0-ba19-f41e084ebcbb"
      },
      "execution_count": null,
      "outputs": [
        {
          "output_type": "stream",
          "name": "stdout",
          "text": [
            "[-5.0, -4.5, -4.0, -3.5, -3.0, -2.5, -2.0, -1.5, -1.0, -0.5, 0.0, 0.5, 1.0, 1.5, 2.0, 2.5, 3.0, 3.5, 4.0, 4.5, 5.0]\n"
          ]
        }
      ]
    },
    {
      "cell_type": "markdown",
      "source": [
        "Apply Hill-Climbing"
      ],
      "metadata": {
        "id": "buaXRkWNiD2c"
      }
    },
    {
      "cell_type": "code",
      "source": [
        "def hill_climbing():\n",
        "\n",
        "    # Start at a random x in x_values\n",
        "    current_x = random.choice(x_values)\n",
        "    current_value = f(current_x)\n",
        "\n",
        "    while True:\n",
        "        # Find the indices of neighboring positions\n",
        "        index_current = x_values.index(current_x)\n",
        "        neighbors = []\n",
        "\n",
        "        # Check if left neighbor exists\n",
        "        if index_current > 0:\n",
        "            left_neighbor = x_values[index_current - 1]\n",
        "            neighbors.append(left_neighbor)\n",
        "\n",
        "        # Check if right neighbor exists\n",
        "        if index_current < len(x_values) - 1:\n",
        "            right_neighbor = x_values[index_current + 1]\n",
        "            neighbors.append(right_neighbor)\n",
        "\n",
        "        # Evaluate the neighbors\n",
        "        neighbor_values = [(x, f(x)) for x in neighbors]\n",
        "\n",
        "        # Find the neighbor with the highest value\n",
        "        best_neighbor = max(neighbor_values, key=lambda x: x[1], default=(current_x, current_value))\n",
        "\n",
        "        # Move to the neighbor if it has a higher value\n",
        "        if best_neighbor[1] > current_value:\n",
        "            current_x, current_value = best_neighbor\n",
        "        else:\n",
        "            # Local maximum reached\n",
        "            break\n",
        "\n",
        "    return current_x, current_value"
      ],
      "metadata": {
        "id": "0Xl_-W6_iIKg"
      },
      "execution_count": null,
      "outputs": []
    },
    {
      "cell_type": "code",
      "source": [
        "# Run the hill-climbing algorithm and print the result\n",
        "max_x, max_value = hill_climbing()\n",
        "print(f\"Maximum value found: f({max_x}) = {max_value}\")"
      ],
      "metadata": {
        "colab": {
          "base_uri": "https://localhost:8080/"
        },
        "id": "a5Q3A2Erhyzu",
        "outputId": "7b3c8f54-ce7c-49b6-ab27-2c16a781c732"
      },
      "execution_count": null,
      "outputs": [
        {
          "output_type": "stream",
          "name": "stdout",
          "text": [
            "Maximum value found: f(0.0) = 2.0\n"
          ]
        }
      ]
    },
    {
      "cell_type": "markdown",
      "source": [
        "Generate the list of possible x values"
      ],
      "metadata": {
        "id": "ZRG1JpPbPgiv"
      }
    },
    {
      "cell_type": "code",
      "source": [
        "x_values = [i * 0.01 for i in range(-10, 11)] #step size in .01\n",
        "print(x_values)"
      ],
      "metadata": {
        "colab": {
          "base_uri": "https://localhost:8080/"
        },
        "id": "7WncKDEmhzhJ",
        "outputId": "b4b608bc-4dca-402b-8870-ad05078343b7"
      },
      "execution_count": null,
      "outputs": [
        {
          "output_type": "stream",
          "name": "stdout",
          "text": [
            "[-0.1, -0.09, -0.08, -0.07, -0.06, -0.05, -0.04, -0.03, -0.02, -0.01, 0.0, 0.01, 0.02, 0.03, 0.04, 0.05, 0.06, 0.07, 0.08, 0.09, 0.1]\n"
          ]
        }
      ]
    },
    {
      "cell_type": "code",
      "source": [
        "# Run the hill-climbing algorithm and print the result\n",
        "max_x, max_value = hill_climbing()\n",
        "print(f\"Maximum value found: f({max_x}) = {max_value}\")"
      ],
      "metadata": {
        "colab": {
          "base_uri": "https://localhost:8080/"
        },
        "id": "4_hgT9TEMbPD",
        "outputId": "fe28bdb6-ca2e-4bb5-815d-f04abdd978b8"
      },
      "execution_count": null,
      "outputs": [
        {
          "output_type": "stream",
          "name": "stdout",
          "text": [
            "Maximum value found: f(0.0) = 2.0\n"
          ]
        }
      ]
    },
    {
      "cell_type": "markdown",
      "source": [
        "Defining g(x)"
      ],
      "metadata": {
        "id": "d_z84StnM9at"
      }
    },
    {
      "cell_type": "code",
      "source": [
        "def g(x):\n",
        "    return (0.0051 * x**5) - (0.1367 * x**4) + (1.24 * x**3) - (4.456 * x**2) + (5.66 * x) - 0.287\n"
      ],
      "metadata": {
        "id": "UiHgQkLSMb8w"
      },
      "execution_count": null,
      "outputs": []
    },
    {
      "cell_type": "markdown",
      "source": [
        "Generate the list of possible x values"
      ],
      "metadata": {
        "id": "vHFyboKRP0CU"
      }
    },
    {
      "cell_type": "code",
      "source": [
        "# Generate the list of possible x values\n",
        "x_values = [i * 0.5 for i in range(0, 21)]"
      ],
      "metadata": {
        "id": "vpqC3d4_N4un"
      },
      "execution_count": null,
      "outputs": []
    },
    {
      "cell_type": "markdown",
      "source": [
        "Apply Random-Restart Hill-Climbing"
      ],
      "metadata": {
        "id": "MpsOdd6sPo4o"
      }
    },
    {
      "cell_type": "code",
      "source": [
        "# Random-Restart Hill-Climbing Algorithm Implementation\n",
        "def random_restart_hill_climbing(restarts=20):\n",
        "    global_max_x = None\n",
        "    global_max_value = float('-inf')\n",
        "\n",
        "    for i in range(restarts):\n",
        "        # Start at a random x in x_values\n",
        "        current_x = random.choice(x_values)\n",
        "        current_value = g(current_x)\n",
        "\n",
        "        while True:\n",
        "            # Find the indices of neighboring positions\n",
        "            index_current = x_values.index(current_x)\n",
        "            neighbors = []\n",
        "\n",
        "            # Check if left neighbor exists\n",
        "            if index_current > 0:\n",
        "                left_neighbor = x_values[index_current - 1]\n",
        "                neighbors.append(left_neighbor)\n",
        "\n",
        "            # Check if right neighbor exists\n",
        "            if index_current < len(x_values) - 1:\n",
        "                right_neighbor = x_values[index_current + 1]\n",
        "                neighbors.append(right_neighbor)\n",
        "\n",
        "            # Evaluate the neighbors\n",
        "            neighbor_values = [(x, g(x)) for x in neighbors]\n",
        "\n",
        "            # Find the neighbor with the highest value\n",
        "            best_neighbor = max(neighbor_values, key=lambda x: x[1], default=(current_x, current_value))\n",
        "\n",
        "            # Move to the neighbor if it has a higher value\n",
        "            if best_neighbor[1] > current_value:\n",
        "                current_x, current_value = best_neighbor\n",
        "            else:\n",
        "                # Local maximum reached\n",
        "                break\n",
        "\n",
        "        # Update global maximum if current local maximum is higher\n",
        "        if current_value > global_max_value:\n",
        "            global_max_x = current_x\n",
        "            global_max_value = current_value\n",
        "\n",
        "        return global_max_x, global_max_value"
      ],
      "metadata": {
        "id": "IfTY7w7fN7kC"
      },
      "execution_count": null,
      "outputs": []
    },
    {
      "cell_type": "code",
      "source": [
        "\n",
        "# Run the random-restart hill-climbing algorithm and print the global maximum\n",
        "max_x, max_value = random_restart_hill_climbing(restarts=20)\n",
        "print(f\"\\nGlobal maximum found: g({max_x}) = {max_value}\")"
      ],
      "metadata": {
        "colab": {
          "base_uri": "https://localhost:8080/"
        },
        "id": "FlHQ9pD4OBlJ",
        "outputId": "a63796b9-9d01-467a-ddc0-dfc17d99d1bd"
      },
      "execution_count": null,
      "outputs": [
        {
          "output_type": "stream",
          "name": "stdout",
          "text": [
            "\n",
            "Global maximum found: g(6.5) = 3.9287781250000213\n"
          ]
        }
      ]
    },
    {
      "cell_type": "markdown",
      "source": [
        "Applying Hill climbing to compare\n"
      ],
      "metadata": {
        "id": "u5L5kxH3PEH8"
      }
    },
    {
      "cell_type": "code",
      "source": [
        "max_x, max_value = hill_climbing()\n",
        "print(f\"Local maximum found: g({max_x}) = {max_value}\")"
      ],
      "metadata": {
        "colab": {
          "base_uri": "https://localhost:8080/"
        },
        "id": "7Kcx4cZxO9e8",
        "outputId": "541d32b6-ef99-4954-e8c9-97b370a1f0b3"
      },
      "execution_count": null,
      "outputs": [
        {
          "output_type": "stream",
          "name": "stdout",
          "text": [
            "Local maximum found: g(0.0) = 2.0\n"
          ]
        }
      ]
    },
    {
      "cell_type": "markdown",
      "source": [
        "Simple hill-climbing often gets trapped in local maxima and may fail to find the global optimum unless the initial starting point is near the global maximum. This is particularly problematic in functions like \\( g(x) \\), which have multiple peaks. In contrast, random-restart hill-climbing is a more robust approach, as it restarts from different random points in the state-space, increasing the likelihood of finding the global maximum. Though it is computationally more expensive due to multiple restarts, it is far more reliable for complex functions with several local maxima, offering better overall performance in reaching the optimal solution."
      ],
      "metadata": {
        "id": "jhdXEkaePSFn"
      }
    }
  ]
}